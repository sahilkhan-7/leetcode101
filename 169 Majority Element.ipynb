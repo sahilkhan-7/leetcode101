{
 "cells": [
  {
   "cell_type": "markdown",
   "metadata": {},
   "source": [
    "# Majority Element"
   ]
  },
  {
   "cell_type": "code",
   "execution_count": null,
   "metadata": {},
   "outputs": [],
   "source": [
    "def majorityElement(nums):\n",
    "    h = {}\n",
    "    for i in nums:\n",
    "        if i in h:\n",
    "            h[i] += 1\n",
    "        else:\n",
    "            h[i] = 1\n",
    "    h = sorted(h.items(), key=lambda x: x[1], reverse=True)\n",
    "    return h[0][0]\n",
    "\n",
    "nums = [2,2,1,1,1,2,2]\n",
    "print(majorityElement(nums))"
   ]
  },
  {
   "cell_type": "code",
   "execution_count": 11,
   "metadata": {},
   "outputs": [
    {
     "name": "stdout",
     "output_type": "stream",
     "text": [
      "2\n"
     ]
    }
   ],
   "source": [
    "def majorityElement(nums):\n",
    "    nums.sort()\n",
    "\n",
    "    return (nums[len(nums)//2])\n",
    "\n",
    "nums = [2, 2, 1, 1, 1, 2, 2]\n",
    "print(majorityElement(nums))"
   ]
  },
  {
   "cell_type": "code",
   "execution_count": 10,
   "metadata": {},
   "outputs": [
    {
     "name": "stdout",
     "output_type": "stream",
     "text": [
      "2\n"
     ]
    }
   ],
   "source": [
    "def majorityElement(nums):\n",
    "    count = 0\n",
    "    candidate = None\n",
    "\n",
    "    for num in nums:\n",
    "        if count == 0:\n",
    "            candidate = num\n",
    "        count += (1 if num == candidate else -1)\n",
    "\n",
    "    return candidate\n",
    "\n",
    "nums = [2, 2, 1, 1, 1, 2, 2]\n",
    "print(majorityElement(nums))"
   ]
  },
  {
   "cell_type": "markdown",
   "metadata": {},
   "source": [
    "Sure! Let's break down the \n",
    "\n",
    "majorityElement\n",
    "\n",
    " function step by step:\n",
    "\n",
    "### Function Purpose\n",
    "The \n",
    "\n",
    "majorityElement\n",
    "\n",
    " function is designed to find the majority element in a list of integers. The majority element is the element that appears more than half of the time in the list.\n",
    "\n",
    "### Code Explanation\n",
    "\n"
   ]
  },
  {
   "cell_type": "code",
   "execution_count": 9,
   "metadata": {},
   "outputs": [],
   "source": [
    "def majorityElement(nums):\n",
    "    count = 0\n",
    "    candidate = None\n",
    "\n",
    "    for num in nums:\n",
    "        if count == 0:\n",
    "            candidate = num\n",
    "        count += (1 if num == candidate else -1)\n",
    "\n",
    "    return candidate"
   ]
  },
  {
   "cell_type": "markdown",
   "metadata": {},
   "source": [
    "\n",
    "\n",
    "1. **Initialization**:\n",
    "    ```python\n",
    "    count = 0\n",
    "    candidate = None\n",
    "    ```\n",
    "    - \n",
    "\n",
    "count\n",
    "\n",
    " is initialized to 0. This variable will keep track of the balance between the candidate element and other elements.\n",
    "    - \n",
    "\n",
    "candidate\n",
    "\n",
    " is initialized to `None`. This variable will hold the current candidate for the majority element.\n",
    "\n",
    "2. **Iterating through the list**:\n",
    "    ```python\n",
    "    for num in nums:\n",
    "    ```\n",
    "    - The function iterates through each element (\n",
    "\n",
    "num\n",
    "\n",
    ") in the list \n",
    "\n",
    "nums\n",
    "\n",
    ".\n",
    "\n",
    "3. **Updating the candidate**:\n",
    "    ```python\n",
    "    if count == 0:\n",
    "        candidate = num\n",
    "    ```\n",
    "    - If \n",
    "\n",
    "count\n",
    "\n",
    " is 0, it means there is no current candidate or the previous candidate has been balanced out by other elements. Therefore, the current element (\n",
    "\n",
    "num\n",
    "\n",
    ") becomes the new candidate.\n",
    "\n",
    "4. **Adjusting the count**:\n",
    "    ```python\n",
    "    count += (1 if num == candidate else -1)\n",
    "    ```\n",
    "    - If the current element (\n",
    "\n",
    "num\n",
    "\n",
    ") is the same as the candidate, \n",
    "\n",
    "count\n",
    "\n",
    " is incremented by 1.\n",
    "    - If the current element (\n",
    "\n",
    "num\n",
    "\n",
    ") is different from the candidate, \n",
    "\n",
    "count\n",
    "\n",
    " is decremented by 1.\n",
    "    - This mechanism ensures that the candidate is balanced against other elements. If an element is truly the majority, it will remain the candidate by the end of the iteration.\n",
    "\n",
    "5. **Returning the majority element**:\n",
    "    ```python\n",
    "    return candidate\n",
    "    ```\n",
    "    - After iterating through the entire list, the function returns the candidate, which is the majority element.\n",
    "\n",
    "### Example\n",
    "Given the list \n",
    "\n",
    "nums = [2, 2, 1, 1, 1, 2, 2]\n",
    "\n",
    ", the function works as follows:\n",
    "- Initial candidate: `None`, count: `0`\n",
    "- First element `2`: candidate becomes `2`, count becomes `1`\n",
    "- Second element `2`: candidate remains `2`, count becomes `2`\n",
    "- Third element `1`: candidate remains `2`, count becomes `1`\n",
    "- Fourth element `1`: candidate remains `2`, count becomes `0`\n",
    "- Fifth element `1`: candidate becomes `1`, count becomes `1`\n",
    "- Sixth element `2`: candidate remains `1`, count becomes `0`\n",
    "- Seventh element `2`: candidate becomes `2`, count becomes `1`\n",
    "\n",
    "The function returns `2` as the majority element.\n",
    "\n",
    "This algorithm is known as the **Boyer-Moore Voting Algorithm** and runs in O(n) time complexity with O(1) space complexity."
   ]
  },
  {
   "cell_type": "code",
   "execution_count": null,
   "metadata": {},
   "outputs": [],
   "source": []
  }
 ],
 "metadata": {
  "kernelspec": {
   "display_name": "Python 3",
   "language": "python",
   "name": "python3"
  },
  "language_info": {
   "codemirror_mode": {
    "name": "ipython",
    "version": 3
   },
   "file_extension": ".py",
   "mimetype": "text/x-python",
   "name": "python",
   "nbconvert_exporter": "python",
   "pygments_lexer": "ipython3",
   "version": "3.11.8"
  }
 },
 "nbformat": 4,
 "nbformat_minor": 2
}
