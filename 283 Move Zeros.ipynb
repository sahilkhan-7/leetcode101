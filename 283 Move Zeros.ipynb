{
 "cells": [
  {
   "cell_type": "markdown",
   "metadata": {},
   "source": [
    "# <font color = 'lightgreen'><b>Move Zeros</b></font>"
   ]
  },
  {
   "cell_type": "markdown",
   "metadata": {},
   "source": [
    "**Example 1:**\n",
    "\n",
    "- Input: nums = [0,1,0,3,12]\n",
    "- Output: [1,3,12,0,0]\n",
    "\n",
    "**Example 2:**\n",
    "\n",
    "- Input: nums = [0]\n",
    "- Output: [0]"
   ]
  },
  {
   "cell_type": "code",
   "execution_count": 1,
   "metadata": {},
   "outputs": [
    {
     "name": "stdout",
     "output_type": "stream",
     "text": [
      "[1, 3, 12, 0, 0]\n"
     ]
    }
   ],
   "source": [
    "def moveZeros(arr):\n",
    "    if len(arr) < 2:\n",
    "        return arr\n",
    "    count = 0\n",
    "    new_arr = []\n",
    "    for num in arr:\n",
    "        if num == 0:\n",
    "            count += 1\n",
    "        else:\n",
    "            new_arr.append(num)\n",
    "            \n",
    "    return new_arr + [0]*count\n",
    "\n",
    "nums = [0,1,0,3,12]\n",
    "print(moveZeros(nums))"
   ]
  },
  {
   "cell_type": "markdown",
   "metadata": {},
   "source": [
    "### **With Constant Space**"
   ]
  },
  {
   "cell_type": "code",
   "execution_count": null,
   "metadata": {},
   "outputs": [
    {
     "name": "stdout",
     "output_type": "stream",
     "text": [
      "[1, 3, 12, 0, 0]\n"
     ]
    }
   ],
   "source": [
    "def move_zeros(nums):\n",
    "    insert, count = 0, 0\n",
    "    for i in range(len(nums)):\n",
    "        if nums[i] == 0:\n",
    "            count += 1\n",
    "            \n",
    "        else:\n",
    "            nums[insert] = nums[i]\n",
    "            insert += 1\n",
    "            \n",
    "    nums[insert:] = [0]*count \n",
    "    return nums\n",
    "\n",
    "nums = [0,1,0,3,12]\n",
    "print(move_zeros(nums))"
   ]
  },
  {
   "cell_type": "code",
   "execution_count": null,
   "metadata": {},
   "outputs": [],
   "source": []
  }
 ],
 "metadata": {
  "kernelspec": {
   "display_name": "Python 3",
   "language": "python",
   "name": "python3"
  },
  "language_info": {
   "codemirror_mode": {
    "name": "ipython",
    "version": 3
   },
   "file_extension": ".py",
   "mimetype": "text/x-python",
   "name": "python",
   "nbconvert_exporter": "python",
   "pygments_lexer": "ipython3",
   "version": "3.11.8"
  }
 },
 "nbformat": 4,
 "nbformat_minor": 2
}
