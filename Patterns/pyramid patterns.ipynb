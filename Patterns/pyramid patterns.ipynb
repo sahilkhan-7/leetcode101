{
 "cells": [
  {
   "cell_type": "markdown",
   "metadata": {},
   "source": [
    "# Half Pyramid Patterns\n",
    "\n",
    "## Left-Aligned Half Pyramid\n",
    "\n",
    "```\n",
    "*\n",
    "**\n",
    "***\n",
    "****\n",
    "*****\n",
    "```\n",
    "\n",
    "## Right-Aligned Half Pyramid\n",
    "```\n",
    "    *\n",
    "   **\n",
    "  ***\n",
    " ****\n",
    "*****\n",
    "```\n",
    "\n",
    "## Center-Aligned Half Pyramid\n",
    "```\n",
    "    *\n",
    "   ***\n",
    "  *****\n",
    " *******\n",
    "*********\n",
    "```"
   ]
  },
  {
   "cell_type": "code",
   "execution_count": 3,
   "metadata": {},
   "outputs": [
    {
     "name": "stdout",
     "output_type": "stream",
     "text": [
      "*\n",
      "**\n",
      "***\n",
      "****\n",
      "*****\n"
     ]
    }
   ],
   "source": [
    "# Left Aligned half pyramid\n",
    "def left_pyramid(rows):\n",
    "    for i in range(1, rows+1):\n",
    "        print(\"*\"*i)\n",
    "    \n",
    "left_pyramid(5)"
   ]
  },
  {
   "cell_type": "code",
   "execution_count": 17,
   "metadata": {},
   "outputs": [
    {
     "name": "stdout",
     "output_type": "stream",
     "text": [
      "*\n",
      "**\n",
      "***\n",
      "****\n",
      "*****\n"
     ]
    }
   ],
   "source": [
    "# Left Aligned half pyramid\n",
    "def left_pyramid(rows):\n",
    "    for i in range(rows):\n",
    "        for j in range(i+1):\n",
    "            print(\"*\", end=\"\")\n",
    "        print()\n",
    "left_pyramid(5)"
   ]
  },
  {
   "cell_type": "markdown",
   "metadata": {},
   "source": [
    "## Right Aligned"
   ]
  },
  {
   "cell_type": "code",
   "execution_count": 11,
   "metadata": {},
   "outputs": [
    {
     "name": "stdout",
     "output_type": "stream",
     "text": [
      "    *\n",
      "   **\n",
      "  ***\n",
      " ****\n",
      "*****\n"
     ]
    }
   ],
   "source": [
    "def right_pyramid(rows):\n",
    "    for i in range(1, rows+1):\n",
    "        for _ in range(rows-i):\n",
    "            print(\" \", end=\"\")\n",
    "        print(\"*\"*i)\n",
    "\n",
    "right_pyramid(5)"
   ]
  },
  {
   "cell_type": "markdown",
   "metadata": {},
   "source": [
    "## Center Aligned Pyramid"
   ]
  },
  {
   "cell_type": "code",
   "execution_count": 32,
   "metadata": {},
   "outputs": [
    {
     "name": "stdout",
     "output_type": "stream",
     "text": [
      "    *\n",
      "   ***\n",
      "  *****\n",
      " *******\n",
      "*********\n"
     ]
    }
   ],
   "source": [
    "def pyramid(rows):\n",
    "    for i in range(1, rows+1):\n",
    "        for j in range(rows-i):\n",
    "            print(\" \", end=\"\")\n",
    "        for k in range(1, i*2):\n",
    "            print(\"*\", end=\"\")\n",
    "        print()\n",
    "pyramid(5)"
   ]
  },
  {
   "cell_type": "code",
   "execution_count": null,
   "metadata": {},
   "outputs": [],
   "source": []
  }
 ],
 "metadata": {
  "kernelspec": {
   "display_name": "Python 3",
   "language": "python",
   "name": "python3"
  },
  "language_info": {
   "codemirror_mode": {
    "name": "ipython",
    "version": 3
   },
   "file_extension": ".py",
   "mimetype": "text/x-python",
   "name": "python",
   "nbconvert_exporter": "python",
   "pygments_lexer": "ipython3",
   "version": "3.11.8"
  }
 },
 "nbformat": 4,
 "nbformat_minor": 2
}
