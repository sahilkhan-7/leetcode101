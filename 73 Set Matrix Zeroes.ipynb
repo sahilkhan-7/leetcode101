{
 "cells": [
  {
   "cell_type": "markdown",
   "metadata": {},
   "source": [
    "# <b>73. Set Matrix Zeroes</b>\n",
    "\n",
    "Given an m x n integer matrix matrix, if an element is 0, set its entire row and column to 0's."
   ]
  },
  {
   "cell_type": "markdown",
   "metadata": {},
   "source": [
    "**Example:**\n",
    "\n",
    "**Input:** matrix = [[1,1,1],[1,0,1],[1,1,1]]\n",
    "\n",
    "**Output:** [[1,0,1],[0,0,0],[1,0,1]]"
   ]
  },
  {
   "cell_type": "code",
   "execution_count": 1,
   "metadata": {},
   "outputs": [],
   "source": [
    "def setZeroes(matrix):\n",
    "    \"\"\"\n",
    "    :type matrix: List[List[int]]\n",
    "    :rtype: None Do not return anything, modify matrix in-place instead.\n",
    "    \"\"\"\n",
    "    indexes = list()\n",
    "    for i in range(len(matrix)):\n",
    "        for j in range(len(matrix[0])):\n",
    "            if matrix[i][j] == 0:\n",
    "                indexes.append((i, j))\n",
    "    for index in indexes:\n",
    "        i, j = index[0], index[1]\n",
    "        for x in range(len(matrix)):\n",
    "            matrix[x][j] = 0\n",
    "        for x in range(len(matrix[0])):\n",
    "            matrix[i][x] = 0\n",
    "    return matrix"
   ]
  },
  {
   "cell_type": "code",
   "execution_count": 2,
   "metadata": {},
   "outputs": [
    {
     "name": "stdout",
     "output_type": "stream",
     "text": [
      "[[1, 0, 1], [0, 0, 0], [1, 0, 1]]\n"
     ]
    }
   ],
   "source": [
    "matrix = [[1,1,1],[1,0,1],[1,1,1]]\n",
    "Output = [[1,0,1],[0,0,0],[1,0,1]]\n",
    "\n",
    "print(setZeroes(matrix))"
   ]
  }
 ],
 "metadata": {
  "kernelspec": {
   "display_name": "Python 3",
   "language": "python",
   "name": "python3"
  },
  "language_info": {
   "codemirror_mode": {
    "name": "ipython",
    "version": 3
   },
   "file_extension": ".py",
   "mimetype": "text/x-python",
   "name": "python",
   "nbconvert_exporter": "python",
   "pygments_lexer": "ipython3",
   "version": "3.11.8"
  }
 },
 "nbformat": 4,
 "nbformat_minor": 2
}
