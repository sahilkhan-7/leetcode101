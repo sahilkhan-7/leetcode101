{
 "cells": [
  {
   "cell_type": "markdown",
   "metadata": {},
   "source": [
    "# <b>3163. String Compression III</b>"
   ]
  },
  {
   "cell_type": "markdown",
   "metadata": {},
   "source": [
    "<a href=\"https://leetcode.com/problems/string-compression-iii/description/\" target=\"_blank\">\n",
    "    <button style=\"\n",
    "        background-color: #ff9812; /* Green */\n",
    "        border: none;\n",
    "        color: white;\n",
    "        padding: 15px 32px;\n",
    "        text-align: center;\n",
    "        text-decoration: none;\n",
    "        display: inline-block;\n",
    "        font-size: 16px;\n",
    "        margin: 4px 2px;\n",
    "        cursor: pointer;\n",
    "        border-radius: 12px;\n",
    "        transition: background-color 0.3s ease, transform 0.3s ease;\">\n",
    "        <b>Question Link</b>\n",
    "    </button>\n",
    "</a>\n",
    "\n",
    "<style>\n",
    "    a button:hover {\n",
    "        background-color: #ff9812; /* Darker green */\n",
    "        transform: scale(1.1);\n",
    "    }\n",
    "</style>"
   ]
  },
  {
   "cell_type": "code",
   "execution_count": 23,
   "metadata": {},
   "outputs": [],
   "source": [
    "def compressedString(word: str) -> str:\n",
    "    if not word:\n",
    "        return \"\"\n",
    "    \n",
    "    comp = []\n",
    "    prev = word[0]\n",
    "    count = 1\n",
    "    \n",
    "    for current in word[1:]:\n",
    "        if current == prev:\n",
    "            if count == 9:\n",
    "                comp.append(\"9\")\n",
    "                comp.append(prev)\n",
    "                count = 1\n",
    "            else:\n",
    "                count += 1\n",
    "        else:\n",
    "            comp.append(str(count))\n",
    "            comp.append(prev)\n",
    "            prev = current\n",
    "            count = 1\n",
    "    \n",
    "    comp.append(str(count))\n",
    "    comp.append(prev)\n",
    "    \n",
    "    return ''.join(comp)"
   ]
  },
  {
   "cell_type": "code",
   "execution_count": 24,
   "metadata": {},
   "outputs": [
    {
     "name": "stdout",
     "output_type": "stream",
     "text": [
      "1a1b1c1d1e\n"
     ]
    }
   ],
   "source": [
    "word = \"abcde\"\n",
    "print(compressedString(word))"
   ]
  },
  {
   "cell_type": "code",
   "execution_count": 25,
   "metadata": {},
   "outputs": [],
   "source": [
    "def compressedString2(word: str) -> str:\n",
    "    comp = []\n",
    "    i, start = 1, 0\n",
    "    while i < len(word):\n",
    "        while i < len(word) and word[i] == word[i - 1] and (i - start) < 10:\n",
    "            i += 1\n",
    "        if (i - start) == 10:\n",
    "            i -= 1\n",
    "            \n",
    "        comp.append(str(i - start))\n",
    "        comp.append(word[start])\n",
    "        \n",
    "        start = i\n",
    "        i += 1\n",
    "        \n",
    "    if start == len(word) - 1:\n",
    "        comp.append(str(i - start))\n",
    "        comp.append(word[start])\n",
    "        \n",
    "    return ''.join(comp)    \n",
    "    "
   ]
  },
  {
   "cell_type": "code",
   "execution_count": 26,
   "metadata": {},
   "outputs": [
    {
     "name": "stdout",
     "output_type": "stream",
     "text": [
      "1a1b1c1d1e\n"
     ]
    }
   ],
   "source": [
    "word = \"abcde\"\n",
    "print(compressedString2(word))"
   ]
  },
  {
   "cell_type": "code",
   "execution_count": null,
   "metadata": {},
   "outputs": [],
   "source": []
  }
 ],
 "metadata": {
  "kernelspec": {
   "display_name": "Python 3",
   "language": "python",
   "name": "python3"
  },
  "language_info": {
   "codemirror_mode": {
    "name": "ipython",
    "version": 3
   },
   "file_extension": ".py",
   "mimetype": "text/x-python",
   "name": "python",
   "nbconvert_exporter": "python",
   "pygments_lexer": "ipython3",
   "version": "3.11.8"
  }
 },
 "nbformat": 4,
 "nbformat_minor": 2
}
