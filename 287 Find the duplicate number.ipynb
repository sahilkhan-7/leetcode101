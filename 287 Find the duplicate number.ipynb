{
 "cells": [
  {
   "cell_type": "markdown",
   "metadata": {},
   "source": [
    "# <b>287 Find the duplicate number</b>\n",
    "\n",
    "**Example 1:**\n",
    "\n",
    "- **Input:** nums = [1,3,4,2,2]\n",
    "- **Output:** 2\n",
    "\n",
    "**Example 2:**\n",
    "\n",
    "- **Input:** nums = [3,1,3,4,2]\n",
    "- **Output:** 3\n",
    "\n",
    "**Example 3:**\n",
    "\n",
    "- **Input:** nums = [3,3,3,3,3]\n",
    "- **Output:** 3"
   ]
  },
  {
   "cell_type": "markdown",
   "metadata": {},
   "source": [
    "Using only extra contant space."
   ]
  },
  {
   "cell_type": "code",
   "execution_count": 22,
   "metadata": {},
   "outputs": [],
   "source": [
    "# general solution\n",
    "\n",
    "def findDuplicate(nums):\n",
    "    \"\"\"\n",
    "    :type nums: List[int]\n",
    "    :rtype: int\n",
    "    \"\"\"\n",
    "    for i in range(len(nums)):\n",
    "        for j in range(len(nums)):\n",
    "            if i == j:\n",
    "                continue\n",
    "            elif nums[i] == nums[j]:\n",
    "                return nums[i]\n",
    "    return"
   ]
  },
  {
   "cell_type": "code",
   "execution_count": 23,
   "metadata": {},
   "outputs": [],
   "source": [
    "# # general solution\n",
    "\n",
    "# def findDuplicate(nums):\n",
    "#     \"\"\"\n",
    "#     :type nums: List[int]\n",
    "#     :rtype: int\n",
    "#     \"\"\"\n",
    "#     for i in range(len(nums)):\n",
    "#         if nums[i] in nums[i+1:]:\n",
    "#             return nums[i]\n",
    "#     return"
   ]
  },
  {
   "cell_type": "code",
   "execution_count": 24,
   "metadata": {},
   "outputs": [
    {
     "name": "stdout",
     "output_type": "stream",
     "text": [
      "2\n",
      "3\n",
      "3\n"
     ]
    }
   ],
   "source": [
    "nums = [1,3,4,2,2]\n",
    "print(findDuplicate(nums))\n",
    "nums = [3,1,3,4,2]\n",
    "print(findDuplicate(nums))\n",
    "nums = [3,3,3,3,3]\n",
    "print(findDuplicate(nums))"
   ]
  },
  {
   "cell_type": "markdown",
   "metadata": {},
   "source": [
    "### Using only linear time complexity"
   ]
  },
  {
   "cell_type": "code",
   "execution_count": 25,
   "metadata": {},
   "outputs": [],
   "source": [
    "def findDuplicate(nums):\n",
    "    \"\"\"\n",
    "    :type nums: List[int]\n",
    "    :rtype: int\n",
    "    \"\"\"\n",
    "    visited = []\n",
    "    for num in nums:\n",
    "        if num not in visited:\n",
    "            visited.append(num)\n",
    "        else:\n",
    "            return num\n",
    "    return"
   ]
  },
  {
   "cell_type": "code",
   "execution_count": 26,
   "metadata": {},
   "outputs": [
    {
     "name": "stdout",
     "output_type": "stream",
     "text": [
      "2\n",
      "3\n",
      "3\n"
     ]
    }
   ],
   "source": [
    "nums = [1,3,4,2,2]\n",
    "print(findDuplicate(nums))\n",
    "nums = [3,1,3,4,2]\n",
    "print(findDuplicate(nums))\n",
    "nums = [3,3,3,3,3]\n",
    "print(findDuplicate(nums))"
   ]
  },
  {
   "cell_type": "markdown",
   "metadata": {},
   "source": [
    "### Using linear time complexity and Constant space"
   ]
  },
  {
   "cell_type": "code",
   "execution_count": 32,
   "metadata": {},
   "outputs": [],
   "source": [
    "def findDuplicate(nums):\n",
    "    \"\"\"\n",
    "    :type nums: List[int]\n",
    "    :rtype: int\n",
    "    \"\"\"\n",
    "    slow, fast = 0, 0\n",
    "    while True:\n",
    "        slow = nums[slow]\n",
    "        fast = nums[nums[fast]]\n",
    "        if slow == fast:\n",
    "            break\n",
    "    slow2 = 0\n",
    "    while True:\n",
    "        slow = nums[slow]\n",
    "        slow2 = nums[slow2]\n",
    "        if slow == slow2:\n",
    "            return slow"
   ]
  },
  {
   "cell_type": "code",
   "execution_count": 33,
   "metadata": {},
   "outputs": [
    {
     "name": "stdout",
     "output_type": "stream",
     "text": [
      "2\n",
      "3\n",
      "3\n"
     ]
    }
   ],
   "source": [
    "nums = [1,3,4,2,2]\n",
    "print(findDuplicate(nums))\n",
    "nums = [3,1,3,4,2]\n",
    "print(findDuplicate(nums))\n",
    "nums = [3,3,3,3,3]\n",
    "print(findDuplicate(nums))"
   ]
  },
  {
   "cell_type": "code",
   "execution_count": null,
   "metadata": {},
   "outputs": [],
   "source": []
  }
 ],
 "metadata": {
  "kernelspec": {
   "display_name": "Python 3",
   "language": "python",
   "name": "python3"
  },
  "language_info": {
   "codemirror_mode": {
    "name": "ipython",
    "version": 3
   },
   "file_extension": ".py",
   "mimetype": "text/x-python",
   "name": "python",
   "nbconvert_exporter": "python",
   "pygments_lexer": "ipython3",
   "version": "3.11.8"
  }
 },
 "nbformat": 4,
 "nbformat_minor": 2
}
