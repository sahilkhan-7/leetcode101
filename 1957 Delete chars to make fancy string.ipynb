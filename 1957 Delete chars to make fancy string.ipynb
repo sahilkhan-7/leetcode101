{
 "cells": [
  {
   "cell_type": "markdown",
   "metadata": {},
   "source": [
    "# <b>1957 Delete Characters to make Fancy string</b>"
   ]
  },
  {
   "cell_type": "code",
   "execution_count": 9,
   "metadata": {},
   "outputs": [
    {
     "name": "stdout",
     "output_type": "stream",
     "text": [
      "leetcode\n"
     ]
    }
   ],
   "source": [
    "def makeFancyString(s) -> str:\n",
    "    new_s = ''\n",
    "    for i in range(len(s)):\n",
    "        if s[i]*2 == s[i+1:i+3]:\n",
    "            continue\n",
    "        else:\n",
    "            new_s += s[i]\n",
    "            \n",
    "    return new_s\n",
    "            \n",
    "print(makeFancyString(\"leeetcode\")) # \"leetcode\""
   ]
  },
  {
   "cell_type": "code",
   "execution_count": 10,
   "metadata": {},
   "outputs": [
    {
     "name": "stdout",
     "output_type": "stream",
     "text": [
      "aabaa\n"
     ]
    }
   ],
   "source": [
    "print(makeFancyString(\"aaabaaaa\")) "
   ]
  },
  {
   "cell_type": "code",
   "execution_count": 11,
   "metadata": {},
   "outputs": [
    {
     "name": "stdout",
     "output_type": "stream",
     "text": [
      "aabaa\n",
      "leetcode\n"
     ]
    }
   ],
   "source": [
    "def makeFancyString2(s) -> str:\n",
    "    res = []\n",
    "    cnt = 1\n",
    "    previous = None\n",
    "    for i in s:\n",
    "        if i == previous:\n",
    "            cnt += 1\n",
    "        else:\n",
    "            cnt = 1\n",
    "        previous = i\n",
    "        \n",
    "        if cnt < 3:\n",
    "            res.append(i)\n",
    "    return \"\".join(res)\n",
    "\n",
    "print(makeFancyString(\"aaabaaaa\")) \n",
    "print(makeFancyString(\"leeetcode\")) # \"leetcode\""
   ]
  },
  {
   "cell_type": "code",
   "execution_count": null,
   "metadata": {},
   "outputs": [],
   "source": []
  }
 ],
 "metadata": {
  "kernelspec": {
   "display_name": "Python 3",
   "language": "python",
   "name": "python3"
  },
  "language_info": {
   "codemirror_mode": {
    "name": "ipython",
    "version": 3
   },
   "file_extension": ".py",
   "mimetype": "text/x-python",
   "name": "python",
   "nbconvert_exporter": "python",
   "pygments_lexer": "ipython3",
   "version": "3.11.8"
  }
 },
 "nbformat": 4,
 "nbformat_minor": 2
}
