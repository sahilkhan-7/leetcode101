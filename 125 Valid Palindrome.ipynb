{
 "cells": [
  {
   "cell_type": "markdown",
   "metadata": {},
   "source": [
    "# 125. Valid Palindrome"
   ]
  },
  {
   "cell_type": "code",
   "execution_count": 8,
   "metadata": {},
   "outputs": [
    {
     "name": "stdout",
     "output_type": "stream",
     "text": [
      "True\n"
     ]
    }
   ],
   "source": [
    "        \n",
    "def filter_string(s):\n",
    "    symbols = '{}[]/\\*()@#!$%^<>:;\",`_-+=|.?&\\' '\n",
    "    \n",
    "    for symbol in symbols:\n",
    "        s = s.replace(symbol, '')\n",
    "    s = s.lower()\n",
    "    return s\n",
    "\n",
    "def isPalindrome(s):\n",
    "    s = filter_string(s)\n",
    "\n",
    "    i = 0\n",
    "    n = len(s)\n",
    "    while i < n // 2:\n",
    "        if s[i] != s[n - i - 1]:\n",
    "            return False\n",
    "        i += 1\n",
    "    return True\n",
    "            \n",
    "s = \"A man, a plan, a $%@!%^&%^*% canal: Panama \"\n",
    "print(isPalindrome(s))"
   ]
  },
  {
   "cell_type": "code",
   "execution_count": 9,
   "metadata": {},
   "outputs": [
    {
     "name": "stdout",
     "output_type": "stream",
     "text": [
      "True\n"
     ]
    }
   ],
   "source": [
    "def isPalindrome(s):\n",
    "    s = filter_string(s)\n",
    "\n",
    "    i = 0\n",
    "    j = len(s) - 1\n",
    "    while i <= j:\n",
    "        if s[i] != s[j]:\n",
    "            return False\n",
    "        i += 1\n",
    "        j -= 1\n",
    "    return True\n",
    "            \n",
    "s = \"A man, a plan, a $%@!%^&%^*% canal: Panama \"\n",
    "print(isPalindrome(s))"
   ]
  },
  {
   "cell_type": "code",
   "execution_count": null,
   "metadata": {},
   "outputs": [],
   "source": []
  }
 ],
 "metadata": {
  "kernelspec": {
   "display_name": "Python 3",
   "language": "python",
   "name": "python3"
  },
  "language_info": {
   "codemirror_mode": {
    "name": "ipython",
    "version": 3
   },
   "file_extension": ".py",
   "mimetype": "text/x-python",
   "name": "python",
   "nbconvert_exporter": "python",
   "pygments_lexer": "ipython3",
   "version": "3.11.8"
  }
 },
 "nbformat": 4,
 "nbformat_minor": 2
}
