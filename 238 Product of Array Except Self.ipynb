{
 "cells": [
  {
   "cell_type": "markdown",
   "metadata": {},
   "source": [
    "# <b>238. Product of Array Except Self</b>"
   ]
  },
  {
   "cell_type": "markdown",
   "metadata": {},
   "source": [
    "**Example 1**:\n",
    "\n",
    "- **Input:** nums = [1,2,3,4]\n",
    "- **Output:** [24,12,8,6]\n",
    "\n",
    "**Example 2**:\n",
    "\n",
    "- **Input:** nums = [-1,1,0,-3,3]\n",
    "- **Output:** [0,0,9,0,0]"
   ]
  },
  {
   "cell_type": "code",
   "execution_count": 1,
   "metadata": {},
   "outputs": [],
   "source": [
    "def productExceptSelf(nums: list[int]) -> list[int]:\n",
    "    n = len(nums)\n",
    "    answer = [1]*n\n",
    "    left_product = 1\n",
    "    for i in range(n):\n",
    "        answer[i] = left_product\n",
    "        left_product *= nums[i]\n",
    "    right_product = 1\n",
    "    for i in range(n - 1, -1, -1):\n",
    "        answer[i] *= right_product\n",
    "        right_product *= nums[i]\n",
    "    return answer"
   ]
  },
  {
   "cell_type": "code",
   "execution_count": 2,
   "metadata": {},
   "outputs": [
    {
     "name": "stdout",
     "output_type": "stream",
     "text": [
      "[24, 12, 8, 6]\n"
     ]
    }
   ],
   "source": [
    "nums = [1,2,3,4]\n",
    "print(productExceptSelf(nums))"
   ]
  },
  {
   "cell_type": "code",
   "execution_count": 3,
   "metadata": {},
   "outputs": [
    {
     "name": "stdout",
     "output_type": "stream",
     "text": [
      "[0, 0, 9, 0, 0]\n"
     ]
    }
   ],
   "source": [
    "nums = [-1,1,0,-3,3]\n",
    "print(productExceptSelf(nums))"
   ]
  },
  {
   "cell_type": "code",
   "execution_count": null,
   "metadata": {},
   "outputs": [],
   "source": []
  }
 ],
 "metadata": {
  "kernelspec": {
   "display_name": "Python 3",
   "language": "python",
   "name": "python3"
  },
  "language_info": {
   "codemirror_mode": {
    "name": "ipython",
    "version": 3
   },
   "file_extension": ".py",
   "mimetype": "text/x-python",
   "name": "python",
   "nbconvert_exporter": "python",
   "pygments_lexer": "ipython3",
   "version": "3.11.8"
  }
 },
 "nbformat": 4,
 "nbformat_minor": 2
}
