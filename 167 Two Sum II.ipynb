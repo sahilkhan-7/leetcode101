{
 "cells": [
  {
   "cell_type": "markdown",
   "metadata": {},
   "source": [
    "# <b>167. Two Sum II - Input Array Is Sorted</b>"
   ]
  },
  {
   "cell_type": "markdown",
   "metadata": {},
   "source": [
    "**Example 1:**\n",
    "\n",
    "- **Input:** numbers = [2,7,11,15], target = 9\n",
    "- **Output:** [1,2]\n",
    "- **Explanation:** The sum of 2 and 7 is 9. Therefore, index1 = 1, index2 = 2. We return [1, 2].\n",
    "\n",
    "\n",
    "**Example 2:**\n",
    "\n",
    "- **Input:** numbers = [2,3,4], target = 6\n",
    "- **Output:** [1,3]\n",
    "- **Explanation:** The sum of 2 and 4 is 6. Therefore index1 = 1, index2 = 3. We return [1, 3]."
   ]
  },
  {
   "cell_type": "code",
   "execution_count": 2,
   "metadata": {},
   "outputs": [
    {
     "name": "stdout",
     "output_type": "stream",
     "text": [
      "[1, 2]\n"
     ]
    }
   ],
   "source": [
    "def twoSum(numbers: list[int], target: int) -> list[int]:\n",
    "    i, j = 0, len(numbers) - 1\n",
    "    while i < j:\n",
    "        if numbers[i] + numbers[j] < target:\n",
    "            i += 1\n",
    "        elif numbers[i] + numbers[j] > target:\n",
    "            j -= 1\n",
    "        else:\n",
    "            return [i+1, j+1]\n",
    "    \n",
    "numbers = [2,7,11,15]\n",
    "target = 9\n",
    "print(twoSum(numbers, target))"
   ]
  },
  {
   "cell_type": "code",
   "execution_count": 3,
   "metadata": {},
   "outputs": [
    {
     "name": "stdout",
     "output_type": "stream",
     "text": [
      "[1, 3]\n"
     ]
    }
   ],
   "source": [
    "numbers = [2,3,4]\n",
    "target = 6\n",
    "print(twoSum(numbers, target))"
   ]
  },
  {
   "cell_type": "code",
   "execution_count": null,
   "metadata": {},
   "outputs": [],
   "source": []
  }
 ],
 "metadata": {
  "kernelspec": {
   "display_name": "Python 3",
   "language": "python",
   "name": "python3"
  },
  "language_info": {
   "codemirror_mode": {
    "name": "ipython",
    "version": 3
   },
   "file_extension": ".py",
   "mimetype": "text/x-python",
   "name": "python",
   "nbconvert_exporter": "python",
   "pygments_lexer": "ipython3",
   "version": "3.11.8"
  }
 },
 "nbformat": 4,
 "nbformat_minor": 2
}
