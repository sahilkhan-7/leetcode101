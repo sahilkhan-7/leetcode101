{
 "cells": [
  {
   "cell_type": "markdown",
   "metadata": {},
   "source": [
    "## Given a string s, find the length of the longest substring without repeating characters.\n",
    "\n",
    "\n",
    "**Example 1**:\n",
    "\n",
    "- **Input:** s = \"abcabcbb\"\n",
    "- **Output:** 3\n",
    "- **Explanation:** The answer is \"abc\", with the length of 3.\n",
    "\n",
    "**Example 2:**\n",
    "\n",
    "- **Input:** s = \"bbbbb\"\n",
    "- **Output:** 1\n",
    "- **Explanation:** The answer is \"b\", with the length of 1."
   ]
  },
  {
   "cell_type": "code",
   "execution_count": 2,
   "metadata": {},
   "outputs": [
    {
     "name": "stdout",
     "output_type": "stream",
     "text": [
      "String : 'abcabcbb' \n",
      "Length Longest substring : 3\n",
      "\n",
      "String : 'bbbbb' \n",
      "Length Longest substring : 1\n",
      "\n",
      "String : 'pwwkew' \n",
      "Length Longest substring : 3\n",
      "\n"
     ]
    }
   ],
   "source": [
    "def lengthOfLongestSubstring(s):\n",
    "    l = 0\n",
    "    longest = 0\n",
    "    a = set()\n",
    "    n = len(s)\n",
    "    for r in range(n):\n",
    "        while s[r] in a:\n",
    "            a.remove(s[l])\n",
    "            l += 1\n",
    "        w = (r - l) + 1\n",
    "        longest = max(longest, w)\n",
    "        a.add(s[r])\n",
    "    return longest\n",
    "\n",
    "print(f\"String : 'abcabcbb' \\nLength Longest substring : {lengthOfLongestSubstring('abcabcbb')}\", end='\\n\\n')\n",
    "print(f\"String : 'bbbbb' \\nLength Longest substring : {lengthOfLongestSubstring('bbbbb')}\", end='\\n\\n')\n",
    "print(f\"String : 'pwwkew' \\nLength Longest substring : {lengthOfLongestSubstring('pwwkew')}\", end='\\n\\n')"
   ]
  },
  {
   "cell_type": "code",
   "execution_count": null,
   "metadata": {},
   "outputs": [],
   "source": []
  }
 ],
 "metadata": {
  "kernelspec": {
   "display_name": "Python 3",
   "language": "python",
   "name": "python3"
  },
  "language_info": {
   "codemirror_mode": {
    "name": "ipython",
    "version": 3
   },
   "file_extension": ".py",
   "mimetype": "text/x-python",
   "name": "python",
   "nbconvert_exporter": "python",
   "pygments_lexer": "ipython3",
   "version": "3.11.8"
  }
 },
 "nbformat": 4,
 "nbformat_minor": 2
}
